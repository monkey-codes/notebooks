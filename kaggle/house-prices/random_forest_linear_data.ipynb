{
 "cells": [
  {
   "cell_type": "code",
   "execution_count": 1,
   "metadata": {},
   "outputs": [],
   "source": [
    "%matplotlib inline\n",
    "from fastai.imports import *\n",
    "from sklearn.ensemble import RandomForestRegressor"
   ]
  },
  {
   "cell_type": "markdown",
   "metadata": {},
   "source": [
    "Start by using *linspace* to create evenly spaced data between 2 points. We are trying to create a synthetic linear timeseries "
   ]
  },
  {
   "cell_type": "code",
   "execution_count": 2,
   "metadata": {},
   "outputs": [
    {
     "data": {
      "text/plain": [
       "array([0.     , 0.02041, 0.04082, 0.06122, 0.08163, 0.10204, 0.12245, 0.14286, 0.16327, 0.18367, 0.20408,\n",
       "       0.22449, 0.2449 , 0.26531, 0.28571, 0.30612, 0.32653, 0.34694, 0.36735, 0.38776, 0.40816, 0.42857,\n",
       "       0.44898, 0.46939, 0.4898 , 0.5102 , 0.53061, 0.55102, 0.57143, 0.59184, 0.61224, 0.63265, 0.65306,\n",
       "       0.67347, 0.69388, 0.71429, 0.73469, 0.7551 , 0.77551, 0.79592, 0.81633, 0.83673, 0.85714, 0.87755,\n",
       "       0.89796, 0.91837, 0.93878, 0.95918, 0.97959, 1.     ])"
      ]
     },
     "execution_count": 2,
     "metadata": {},
     "output_type": "execute_result"
    }
   ],
   "source": [
    "x = np.linspace(0,1);x"
   ]
  },
  {
   "cell_type": "markdown",
   "metadata": {},
   "source": [
    "Create a dependent variable y with a little bit of randomness to it. The random numbers should be the same shape as x."
   ]
  },
  {
   "cell_type": "code",
   "execution_count": 5,
   "metadata": {},
   "outputs": [
    {
     "data": {
      "text/plain": [
       "array([-0.11723, -0.17867, -0.11082,  0.18561,  0.27885,  0.25236, -0.0747 ,  0.09954,  0.09189,  0.09996,\n",
       "        0.0652 ,  0.02892,  0.16266,  0.39749,  0.25835,  0.15938,  0.16603,  0.23502,  0.2476 ,  0.49143,\n",
       "        0.28412,  0.34637,  0.4437 ,  0.64117,  0.63653,  0.67607,  0.69985,  0.44712,  0.38056,  0.45112,\n",
       "        0.5737 ,  0.47683,  0.64547,  0.61885,  0.60156,  0.65256,  0.74835,  0.89823,  0.96142,  0.81316,\n",
       "        0.80887,  0.96265,  0.9918 ,  0.85253,  0.82381,  1.08704,  0.76742,  1.07436,  0.80721,  0.93221])"
      ]
     },
     "execution_count": 5,
     "metadata": {},
     "output_type": "execute_result"
    }
   ],
   "source": [
    "y = x + np.random.uniform(-0.2, 0.2, x.shape);y"
   ]
  },
  {
   "cell_type": "code",
   "execution_count": 6,
   "metadata": {},
   "outputs": [
    {
     "data": {
      "text/plain": [
       "<matplotlib.collections.PathCollection at 0x1c21cc7ba8>"
      ]
     },
     "execution_count": 6,
     "metadata": {},
     "output_type": "execute_result"
    },
    {
     "data": {
      "image/png": "[encoded data removed]",
      "text/plain": [
       "<Figure size 432x288 with 1 Axes>"
      ]
     },
     "metadata": {},
     "output_type": "display_data"
    }
   ],
   "source": [
    "plt.scatter(x,y)"
   ]
  },
  {
   "cell_type": "markdown",
   "metadata": {},
   "source": [
    "Treat the dataset as timeseries. Take the earlier data as the training set and the recent data as validation set."
   ]
  },
  {
   "cell_type": "markdown",
   "metadata": {},
   "source": [
    " Create a random forest and fit it. The x is in the form of a vector and the tree will expect a matrix. Looking at x.shape will show `(50,)` which means it has one **axis**, it **rank** is one. \n",
    " \n",
    " Rank of a variable is equal to the lenth of its shape `rank - len(x.shape)`\n",
    " \n",
    " Vector is an array of rank 1 and a matrix is an array of rank 2\n",
    " \n",
    "*How do we turn a 1 dimensional array into a 2 dimensional array?*\n",
    "You can use none to introduce a new unit axis.\n",
    "\n",
    "Notes:\n",
    "* `x[None,:` is the same as . `x[None]`\n",
    "* `x[...,None]` fill as many as you need to"
   ]
  },
  {
   "cell_type": "code",
   "execution_count": 15,
   "metadata": {},
   "outputs": [
    {
     "name": "stdout",
     "output_type": "stream",
     "text": [
      "1 row and 50 columns (1, 50)\n",
      "50 rows and 1 column (50, 1)\n"
     ]
    }
   ],
   "source": [
    "print(f'1 row and 50 columns {x[None,:].shape}')\n",
    "print(f'50 rows and 1 column {x[:, None].shape}')"
   ]
  },
  {
   "cell_type": "code",
   "execution_count": 20,
   "metadata": {},
   "outputs": [],
   "source": [
    "x1 = x[..., None]\n",
    "#[:40] 0->40 [40:] 40 -> end\n",
    "x_trn, x_val = x1[:40], x1[40:]\n",
    "y_trn, y_val = y[:40], y[40:]\n",
    "\n",
    "m = RandomForestRegressor().fit(x_trn,y_trn)"
   ]
  },
  {
   "cell_type": "markdown",
   "metadata": {},
   "source": [
    "Plotting y_trn against the prediction of x_trn should look the same as the original dataset since we expect the predection of x_trn to be close to x_trn"
   ]
  },
  {
   "cell_type": "code",
   "execution_count": 23,
   "metadata": {},
   "outputs": [],
   "source": [
    "??plt.scatter"
   ]
  },
  {
   "cell_type": "code",
   "execution_count": 25,
   "metadata": {},
   "outputs": [
    {
     "data": {
      "text/plain": [
       "<matplotlib.collections.PathCollection at 0x1c240ae3c8>"
      ]
     },
     "execution_count": 25,
     "metadata": {},
     "output_type": "execute_result"
    },
    {
     "data": {
      "image/png": "[encoded data removed]",
      "text/plain": [
       "<Figure size 432x288 with 1 Axes>"
      ]
     },
     "metadata": {},
     "output_type": "display_data"
    }
   ],
   "source": [
    "plt.scatter(y_trn, m.predict(x_trn))"
   ]
  },
  {
   "cell_type": "code",
   "execution_count": 27,
   "metadata": {},
   "outputs": [
    {
     "data": {
      "text/plain": [
       "<matplotlib.collections.PathCollection at 0x1c23d48e10>"
      ]
     },
     "execution_count": 27,
     "metadata": {},
     "output_type": "execute_result"
    },
    {
     "data": {
      "image/png": "[encoded data removed]",
      "text/plain": [
       "<Figure size 432x288 with 1 Axes>"
      ]
     },
     "metadata": {},
     "output_type": "display_data"
    }
   ],
   "source": [
    "plt.scatter(y_val, m.predict(x_val))"
   ]
  },
  {
   "cell_type": "markdown",
   "metadata": {},
   "source": [
    "This shows a limitation of the random forest, it can only predict averages based on what it has seen, so giving it a datapoint in time beyond what it has seen will result in it just predicting the average of the most recent leaf node it has. \n",
    "\n",
    "This results in all predictions beyond a time that it has seen to be the value of the most recent time datapoint used to train the tree. https://youtu.be/BFIYUvBRTpE?t=5850\n"
   ]
  }
 ],
 "metadata": {
  "kernelspec": {
   "display_name": "Python 3",
   "language": "python",
   "name": "python3"
  },
  "language_info": {
   "codemirror_mode": {
    "name": "ipython",
    "version": 3
   },
   "file_extension": ".py",
   "mimetype": "text/x-python",
   "name": "python",
   "nbconvert_exporter": "python",
   "pygments_lexer": "ipython3",
   "version": "3.6.5"
  }
 },
 "nbformat": 4,
 "nbformat_minor": 2
}
