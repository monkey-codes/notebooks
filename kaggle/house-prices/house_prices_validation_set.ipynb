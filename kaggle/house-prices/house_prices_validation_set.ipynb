{
 "cells": [
  {
   "cell_type": "code",
   "execution_count": 1,
   "metadata": {},
   "outputs": [],
   "source": [
    "%load_ext autoreload\n",
    "%autoreload 2\n",
    "\n",
    "%matplotlib inline"
   ]
  },
  {
   "cell_type": "code",
   "execution_count": 2,
   "metadata": {},
   "outputs": [],
   "source": [
    "from fastai.imports import *\n",
    "from fastai.structured import *\n",
    "\n",
    "from pandas_summary import DataFrameSummary\n",
    "from sklearn.ensemble import RandomForestRegressor, RandomForestClassifier\n",
    "from IPython.display import display\n",
    "\n",
    "from sklearn import metrics\n",
    "from sklearn.model_selection import train_test_split"
   ]
  },
  {
   "cell_type": "code",
   "execution_count": 20,
   "metadata": {},
   "outputs": [],
   "source": [
    "??proc_df"
   ]
  },
  {
   "cell_type": "code",
   "execution_count": 23,
   "metadata": {},
   "outputs": [
    {
     "name": "stdout",
     "output_type": "stream",
     "text": [
      "<class 'pandas.core.frame.DataFrame'>\n",
      "1459\n"
     ]
    }
   ],
   "source": [
    "PATH = \"data/\"\n",
    "df_raw = pd.read_csv(f'{PATH}train.csv', low_memory=False)\n",
    "df_raw_test = pd.read_csv(f'{PATH}test.csv', low_memory=False)\n",
    "train_cats(df_raw)\n",
    "train_cats(df_raw_test)\n",
    "\n",
    "df, y, nas = proc_df(df_raw, 'SalePrice')\n",
    "df_test, _, _ = proc_df(df_raw_test)\n",
    "print(type(df_test))\n",
    "print(len(df_test))\n",
    "\n"
   ]
  },
  {
   "cell_type": "markdown",
   "metadata": {},
   "source": [
    "* Create 5 models (not sure if this means with different hyper parameters)\n",
    "* train and score against validation set and record error\n",
    "* train same model on validation + training and score against test set and record score\n",
    "* plot results of all 5 and see if it falls in a line"
   ]
  },
  {
   "cell_type": "code",
   "execution_count": null,
   "metadata": {},
   "outputs": [],
   "source": [
    "def rmse(x,y): return math.sqrt(((x-y)**2).mean())\n",
    "\n",
    "def test_validation_set(modelFactories, df, y, X_train, y_train, X_valid, y_valid):\n",
    "    data = {\n",
    "        rmse: [],\n",
    "        score: [],\n",
    "        score_oob: []\n",
    "        midx: []\n",
    "    }\n",
    "    \n",
    "    for mf in models:\n",
    "        m = mf()\n",
    "        m.fit(X_train, y_train)\n",
    "        data['rmse'].extend(rmse(m.predict(X_valid), y_valid))\n",
    "        data['score'].extend(m.score(X_train, y_train))\n",
    "        data['score_oob'].extend(m.oob_score_)\n",
    "        m = mf()\n",
    "        m.fit(df, y)\n",
    "        data['rmse'].extend(rmse(m.predict(X_valid), y_valid))\n",
    "        data['score'].extend(m.score(X_train, y_train))\n",
    "        data['score_oob'].extend(m.oob_score_)\n",
    "        \n",
    "        "
   ]
  },
  {
   "cell_type": "markdown",
   "metadata": {},
   "source": [
    "Halfway through trying to implement this for kaggle I realised that the test set does not contain a value for the dependent variable, its missing. That makes sense since its what you have to predict. So the only way I can see a way to check if you have a good validation set, is by making 5 submissions to kaggle and recording the rmse from the leaderboard. Then check that against the scores that you get from your validation set.\n"
   ]
  }
 ],
 "metadata": {
  "kernelspec": {
   "display_name": "Python 3",
   "language": "python",
   "name": "python3"
  },
  "language_info": {
   "codemirror_mode": {
    "name": "ipython",
    "version": 3
   },
   "file_extension": ".py",
   "mimetype": "text/x-python",
   "name": "python",
   "nbconvert_exporter": "python",
   "pygments_lexer": "ipython3",
   "version": "3.6.5"
  }
 },
 "nbformat": 4,
 "nbformat_minor": 2
}
